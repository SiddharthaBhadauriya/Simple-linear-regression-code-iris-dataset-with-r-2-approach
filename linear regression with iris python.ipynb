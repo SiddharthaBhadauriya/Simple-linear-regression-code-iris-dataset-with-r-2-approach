{
 "cells": [
  {
   "cell_type": "code",
   "execution_count": 31,
   "metadata": {},
   "outputs": [
    {
     "name": "stdout",
     "output_type": "stream",
     "text": [
      "(150, 5)\n",
      "     sepal_length  sepal_width  petal_length  petal_width    species\n",
      "0             5.1          3.5           1.4          0.2     setosa\n",
      "1             4.9          3.0           1.4          0.2     setosa\n",
      "2             4.7          3.2           1.3          0.2     setosa\n",
      "3             4.6          3.1           1.5          0.2     setosa\n",
      "4             5.0          3.6           1.4          0.2     setosa\n",
      "..            ...          ...           ...          ...        ...\n",
      "145           6.7          3.0           5.2          2.3  virginica\n",
      "146           6.3          2.5           5.0          1.9  virginica\n",
      "147           6.5          3.0           5.2          2.0  virginica\n",
      "148           6.2          3.4           5.4          2.3  virginica\n",
      "149           5.9          3.0           5.1          1.8  virginica\n",
      "\n",
      "[150 rows x 5 columns]\n"
     ]
    }
   ],
   "source": [
    "%matplotlib inline\n",
    "import numpy as np\n",
    "import pandas as pd\n",
    "import matplotlib.pyplot as plt\n",
    "plt.rcParams['figure.figsize'] = (8,7)\n",
    "data = pd.read_csv('iris.data.txt.csv')\n",
    "print (data.shape)\n",
    "print (data)"
   ]
  },
  {
   "cell_type": "code",
   "execution_count": 32,
   "metadata": {},
   "outputs": [
    {
     "name": "stdout",
     "output_type": "stream",
     "text": [
      "[510. 490. 470. 460. 500. 540. 460. 500. 440. 490. 540. 480. 480. 430.\n",
      " 580. 570. 540. 510. 570. 510. 540. 510. 460. 510. 480. 500. 500. 520.\n",
      " 520. 470. 480. 540. 520. 550. 490. 500. 550. 490. 440. 510. 500. 450.\n",
      " 440. 500. 510. 480. 510. 460. 530. 500. 700. 640. 690. 550. 650. 570.\n",
      " 630. 490. 660. 520. 500. 590. 600. 610. 560. 670. 560. 580. 620. 560.\n",
      " 590. 610. 630. 610. 640. 660. 680. 670. 600. 570. 550. 550. 580. 600.\n",
      " 540. 600. 670. 630. 560. 550. 550. 610. 580. 500. 560. 570. 570. 620.\n",
      " 510. 570. 630. 580. 710. 630. 650. 760. 490. 730. 670. 720. 650. 640.\n",
      " 680. 570. 580. 640. 650. 770. 770. 600. 690. 560. 770. 630. 670. 720.\n",
      " 620. 610. 640. 720. 740. 790. 640. 630. 610. 770. 630. 640. 600. 690.\n",
      " 670. 690. 580. 680. 670. 670. 630. 650. 620. 590.]\n",
      "[ 20.  20.  20.  20.  20.  40.  30.  20.  20.  10.  20.  20.  10.  10.\n",
      "  20.  40.  40.  30.  30.  30.  20.  40.  20.  50.  20.  20.  40.  20.\n",
      "  20.  20.  20.  40.  10.  20.  10.  20.  20.  10.  20.  20.  30.  30.\n",
      "  20.  60.  40.  30.  20.  20.  20.  20. 140. 150. 150. 130. 150. 130.\n",
      " 160. 100. 130. 140. 100. 150. 100. 140. 130. 140. 150. 100. 150. 110.\n",
      " 180. 130. 150. 120. 130. 140. 140. 170. 150. 100. 110. 100. 120. 160.\n",
      " 150. 160. 150. 130. 130. 130. 120. 140. 120. 100. 130. 120. 130. 130.\n",
      " 110. 130. 250. 190. 210. 180. 220. 210. 170. 180. 180. 250. 200. 190.\n",
      " 210. 200. 240. 230. 180. 220. 230. 150. 230. 200. 200. 180. 210. 180.\n",
      " 180. 180. 210. 160. 190. 200. 220. 150. 140. 230. 240. 180. 180. 210.\n",
      " 240. 230. 190. 230. 250. 230. 190. 200. 230. 180.]\n"
     ]
    }
   ],
   "source": [
    "x = data['sepal_length'].values*100\n",
    "y= data['petal_width'].values*100\n",
    "print (x)\n",
    "print (y)"
   ]
  },
  {
   "cell_type": "code",
   "execution_count": 33,
   "metadata": {},
   "outputs": [
    {
     "name": "stdout",
     "output_type": "stream",
     "text": [
      "0.7538408835092407 -320.62768959723303\n"
     ]
    }
   ],
   "source": [
    "mean_x = np.mean(x)\n",
    "mean_y = np.mean(y)\n",
    "m= len(x)\n",
    "numer=0\n",
    "denom=0\n",
    "\n",
    "for i in range(m):\n",
    "    numer += (x[i]-mean_x)*(y[i]-mean_y)\n",
    "    denom += (x[i]-mean_x) ** 2\n",
    "b1= numer/denom\n",
    "b0 = mean_y - (b1*mean_x)\n",
    "print(b1,b0)\n"
   ]
  },
  {
   "cell_type": "code",
   "execution_count": 34,
   "metadata": {},
   "outputs": [
    {
     "data": {
      "image/png": "[encoded data removed]",
      "text/plain": [
       "<Figure size 576x504 with 1 Axes>"
      ]
     },
     "metadata": {
      "needs_background": "light"
     },
     "output_type": "display_data"
    }
   ],
   "source": [
    "max_x = np.max(x)+100\n",
    "min_x = np.min(x)-100\n",
    "\n",
    "X= np.linspace(min_x,max_x,1000)\n",
    "Y=b0+b1*X\n",
    "\n",
    "plt.plot(X,Y,color=\"#58b970\", label=\"Regression Line\")\n",
    "plt.scatter(x,y,c='#ef5423', label = \"Scattered\")\n",
    "\n",
    "plt.xlabel(\"sepal_length in cm\")\n",
    "plt.ylabel(\"sepal_width in cm\")\n",
    "plt.legend()\n",
    "plt.show()"
   ]
  },
  {
   "cell_type": "code",
   "execution_count": 35,
   "metadata": {},
   "outputs": [
    {
     "name": "stdout",
     "output_type": "stream",
     "text": [
      "0.6690481463418156\n"
     ]
    }
   ],
   "source": [
    "ss_t=0\n",
    "ss_r=0\n",
    "for i in range(m):\n",
    "    y_pred = b0+b1*x[i]\n",
    "    ss_t += (y[i]-mean_y) ** 2\n",
    "    ss_r += (y[i]-y_pred) ** 2\n",
    "r2= 1- (ss_r/ss_t)\n",
    "print (r2)"
   ]
  },
  {
   "cell_type": "code",
   "execution_count": null,
   "metadata": {},
   "outputs": [],
   "source": []
  }
 ],
 "metadata": {
  "kernelspec": {
   "display_name": "Python 3",
   "language": "python",
   "name": "python3"
  },
  "language_info": {
   "codemirror_mode": {
    "name": "ipython",
    "version": 3
   },
   "file_extension": ".py",
   "mimetype": "text/x-python",
   "name": "python",
   "nbconvert_exporter": "python",
   "pygments_lexer": "ipython3",
   "version": "3.7.6"
  }
 },
 "nbformat": 4,
 "nbformat_minor": 4
}
